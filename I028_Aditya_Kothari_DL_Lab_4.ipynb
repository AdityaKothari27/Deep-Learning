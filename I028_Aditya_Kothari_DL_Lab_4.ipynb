{
  "nbformat": 4,
  "nbformat_minor": 0,
  "metadata": {
    "colab": {
      "provenance": []
    },
    "kernelspec": {
      "name": "python3",
      "display_name": "Python 3"
    },
    "language_info": {
      "name": "python"
    }
  },
  "cells": [
    {
      "cell_type": "markdown",
      "source": [
        "Name - Aditya Kothari\n",
        "\n",
        "Roll no. - I028\n",
        "\n",
        "Batch - B1"
      ],
      "metadata": {
        "id": "-1LkPGfrfMZE"
      }
    },
    {
      "cell_type": "code",
      "source": [
        "import pandas as pd\n",
        "import numpy as np\n",
        "import matplotlib.pyplot as plt\n",
        "from sklearn.preprocessing import StandardScaler\n",
        "from sklearn.model_selection import train_test_split\n",
        "import keras\n",
        "import tensorflow as tf\n",
        "from keras import layers\n",
        "from keras import models\n",
        "from keras.optimizers import Adam"
      ],
      "metadata": {
        "id": "ufWmovv2fMFx"
      },
      "execution_count": 201,
      "outputs": []
    },
    {
      "cell_type": "code",
      "source": [
        "df = pd.read_csv('/content/drive/MyDrive/diabetes.csv')"
      ],
      "metadata": {
        "id": "lYwyhNnVfL95"
      },
      "execution_count": 202,
      "outputs": []
    },
    {
      "cell_type": "code",
      "source": [
        "df"
      ],
      "metadata": {
        "colab": {
          "base_uri": "https://localhost:8080/",
          "height": 424
        },
        "id": "w_YWiSRYjJ6S",
        "outputId": "1e041ab7-90de-4825-a8e3-1dc5d041707c"
      },
      "execution_count": 203,
      "outputs": [
        {
          "output_type": "execute_result",
          "data": {
            "text/plain": [
              "     Glucose   BMI  Outcome\n",
              "0        148  33.6        1\n",
              "1         85  26.6        0\n",
              "2        183  23.3        1\n",
              "3         89  28.1        0\n",
              "4        137  43.1        1\n",
              "..       ...   ...      ...\n",
              "763      101  32.9        0\n",
              "764      122  36.8        0\n",
              "765      121  26.2        0\n",
              "766      126  30.1        1\n",
              "767       93  30.4        0\n",
              "\n",
              "[768 rows x 3 columns]"
            ],
            "text/html": [
              "\n",
              "  <div id=\"df-e108c601-9254-42cd-88b1-ac9bd192ae8b\" class=\"colab-df-container\">\n",
              "    <div>\n",
              "<style scoped>\n",
              "    .dataframe tbody tr th:only-of-type {\n",
              "        vertical-align: middle;\n",
              "    }\n",
              "\n",
              "    .dataframe tbody tr th {\n",
              "        vertical-align: top;\n",
              "    }\n",
              "\n",
              "    .dataframe thead th {\n",
              "        text-align: right;\n",
              "    }\n",
              "</style>\n",
              "<table border=\"1\" class=\"dataframe\">\n",
              "  <thead>\n",
              "    <tr style=\"text-align: right;\">\n",
              "      <th></th>\n",
              "      <th>Glucose</th>\n",
              "      <th>BMI</th>\n",
              "      <th>Outcome</th>\n",
              "    </tr>\n",
              "  </thead>\n",
              "  <tbody>\n",
              "    <tr>\n",
              "      <th>0</th>\n",
              "      <td>148</td>\n",
              "      <td>33.6</td>\n",
              "      <td>1</td>\n",
              "    </tr>\n",
              "    <tr>\n",
              "      <th>1</th>\n",
              "      <td>85</td>\n",
              "      <td>26.6</td>\n",
              "      <td>0</td>\n",
              "    </tr>\n",
              "    <tr>\n",
              "      <th>2</th>\n",
              "      <td>183</td>\n",
              "      <td>23.3</td>\n",
              "      <td>1</td>\n",
              "    </tr>\n",
              "    <tr>\n",
              "      <th>3</th>\n",
              "      <td>89</td>\n",
              "      <td>28.1</td>\n",
              "      <td>0</td>\n",
              "    </tr>\n",
              "    <tr>\n",
              "      <th>4</th>\n",
              "      <td>137</td>\n",
              "      <td>43.1</td>\n",
              "      <td>1</td>\n",
              "    </tr>\n",
              "    <tr>\n",
              "      <th>...</th>\n",
              "      <td>...</td>\n",
              "      <td>...</td>\n",
              "      <td>...</td>\n",
              "    </tr>\n",
              "    <tr>\n",
              "      <th>763</th>\n",
              "      <td>101</td>\n",
              "      <td>32.9</td>\n",
              "      <td>0</td>\n",
              "    </tr>\n",
              "    <tr>\n",
              "      <th>764</th>\n",
              "      <td>122</td>\n",
              "      <td>36.8</td>\n",
              "      <td>0</td>\n",
              "    </tr>\n",
              "    <tr>\n",
              "      <th>765</th>\n",
              "      <td>121</td>\n",
              "      <td>26.2</td>\n",
              "      <td>0</td>\n",
              "    </tr>\n",
              "    <tr>\n",
              "      <th>766</th>\n",
              "      <td>126</td>\n",
              "      <td>30.1</td>\n",
              "      <td>1</td>\n",
              "    </tr>\n",
              "    <tr>\n",
              "      <th>767</th>\n",
              "      <td>93</td>\n",
              "      <td>30.4</td>\n",
              "      <td>0</td>\n",
              "    </tr>\n",
              "  </tbody>\n",
              "</table>\n",
              "<p>768 rows × 3 columns</p>\n",
              "</div>\n",
              "    <div class=\"colab-df-buttons\">\n",
              "\n",
              "  <div class=\"colab-df-container\">\n",
              "    <button class=\"colab-df-convert\" onclick=\"convertToInteractive('df-e108c601-9254-42cd-88b1-ac9bd192ae8b')\"\n",
              "            title=\"Convert this dataframe to an interactive table.\"\n",
              "            style=\"display:none;\">\n",
              "\n",
              "  <svg xmlns=\"http://www.w3.org/2000/svg\" height=\"24px\" viewBox=\"0 -960 960 960\">\n",
              "    <path d=\"M120-120v-720h720v720H120Zm60-500h600v-160H180v160Zm220 220h160v-160H400v160Zm0 220h160v-160H400v160ZM180-400h160v-160H180v160Zm440 0h160v-160H620v160ZM180-180h160v-160H180v160Zm440 0h160v-160H620v160Z\"/>\n",
              "  </svg>\n",
              "    </button>\n",
              "\n",
              "  <style>\n",
              "    .colab-df-container {\n",
              "      display:flex;\n",
              "      gap: 12px;\n",
              "    }\n",
              "\n",
              "    .colab-df-convert {\n",
              "      background-color: #E8F0FE;\n",
              "      border: none;\n",
              "      border-radius: 50%;\n",
              "      cursor: pointer;\n",
              "      display: none;\n",
              "      fill: #1967D2;\n",
              "      height: 32px;\n",
              "      padding: 0 0 0 0;\n",
              "      width: 32px;\n",
              "    }\n",
              "\n",
              "    .colab-df-convert:hover {\n",
              "      background-color: #E2EBFA;\n",
              "      box-shadow: 0px 1px 2px rgba(60, 64, 67, 0.3), 0px 1px 3px 1px rgba(60, 64, 67, 0.15);\n",
              "      fill: #174EA6;\n",
              "    }\n",
              "\n",
              "    .colab-df-buttons div {\n",
              "      margin-bottom: 4px;\n",
              "    }\n",
              "\n",
              "    [theme=dark] .colab-df-convert {\n",
              "      background-color: #3B4455;\n",
              "      fill: #D2E3FC;\n",
              "    }\n",
              "\n",
              "    [theme=dark] .colab-df-convert:hover {\n",
              "      background-color: #434B5C;\n",
              "      box-shadow: 0px 1px 3px 1px rgba(0, 0, 0, 0.15);\n",
              "      filter: drop-shadow(0px 1px 2px rgba(0, 0, 0, 0.3));\n",
              "      fill: #FFFFFF;\n",
              "    }\n",
              "  </style>\n",
              "\n",
              "    <script>\n",
              "      const buttonEl =\n",
              "        document.querySelector('#df-e108c601-9254-42cd-88b1-ac9bd192ae8b button.colab-df-convert');\n",
              "      buttonEl.style.display =\n",
              "        google.colab.kernel.accessAllowed ? 'block' : 'none';\n",
              "\n",
              "      async function convertToInteractive(key) {\n",
              "        const element = document.querySelector('#df-e108c601-9254-42cd-88b1-ac9bd192ae8b');\n",
              "        const dataTable =\n",
              "          await google.colab.kernel.invokeFunction('convertToInteractive',\n",
              "                                                    [key], {});\n",
              "        if (!dataTable) return;\n",
              "\n",
              "        const docLinkHtml = 'Like what you see? Visit the ' +\n",
              "          '<a target=\"_blank\" href=https://colab.research.google.com/notebooks/data_table.ipynb>data table notebook</a>'\n",
              "          + ' to learn more about interactive tables.';\n",
              "        element.innerHTML = '';\n",
              "        dataTable['output_type'] = 'display_data';\n",
              "        await google.colab.output.renderOutput(dataTable, element);\n",
              "        const docLink = document.createElement('div');\n",
              "        docLink.innerHTML = docLinkHtml;\n",
              "        element.appendChild(docLink);\n",
              "      }\n",
              "    </script>\n",
              "  </div>\n",
              "\n",
              "\n",
              "<div id=\"df-0ee4bde8-dd17-4f78-9755-000b649fd8c2\">\n",
              "  <button class=\"colab-df-quickchart\" onclick=\"quickchart('df-0ee4bde8-dd17-4f78-9755-000b649fd8c2')\"\n",
              "            title=\"Suggest charts.\"\n",
              "            style=\"display:none;\">\n",
              "\n",
              "<svg xmlns=\"http://www.w3.org/2000/svg\" height=\"24px\"viewBox=\"0 0 24 24\"\n",
              "     width=\"24px\">\n",
              "    <g>\n",
              "        <path d=\"M19 3H5c-1.1 0-2 .9-2 2v14c0 1.1.9 2 2 2h14c1.1 0 2-.9 2-2V5c0-1.1-.9-2-2-2zM9 17H7v-7h2v7zm4 0h-2V7h2v10zm4 0h-2v-4h2v4z\"/>\n",
              "    </g>\n",
              "</svg>\n",
              "  </button>\n",
              "\n",
              "<style>\n",
              "  .colab-df-quickchart {\n",
              "    background-color: #E8F0FE;\n",
              "    border: none;\n",
              "    border-radius: 50%;\n",
              "    cursor: pointer;\n",
              "    display: none;\n",
              "    fill: #1967D2;\n",
              "    height: 32px;\n",
              "    padding: 0 0 0 0;\n",
              "    width: 32px;\n",
              "  }\n",
              "\n",
              "  .colab-df-quickchart:hover {\n",
              "    background-color: #E2EBFA;\n",
              "    box-shadow: 0px 1px 2px rgba(60, 64, 67, 0.3), 0px 1px 3px 1px rgba(60, 64, 67, 0.15);\n",
              "    fill: #174EA6;\n",
              "  }\n",
              "\n",
              "  [theme=dark] .colab-df-quickchart {\n",
              "    background-color: #3B4455;\n",
              "    fill: #D2E3FC;\n",
              "  }\n",
              "\n",
              "  [theme=dark] .colab-df-quickchart:hover {\n",
              "    background-color: #434B5C;\n",
              "    box-shadow: 0px 1px 3px 1px rgba(0, 0, 0, 0.15);\n",
              "    filter: drop-shadow(0px 1px 2px rgba(0, 0, 0, 0.3));\n",
              "    fill: #FFFFFF;\n",
              "  }\n",
              "</style>\n",
              "\n",
              "  <script>\n",
              "    async function quickchart(key) {\n",
              "      const charts = await google.colab.kernel.invokeFunction(\n",
              "          'suggestCharts', [key], {});\n",
              "    }\n",
              "    (() => {\n",
              "      let quickchartButtonEl =\n",
              "        document.querySelector('#df-0ee4bde8-dd17-4f78-9755-000b649fd8c2 button');\n",
              "      quickchartButtonEl.style.display =\n",
              "        google.colab.kernel.accessAllowed ? 'block' : 'none';\n",
              "    })();\n",
              "  </script>\n",
              "</div>\n",
              "    </div>\n",
              "  </div>\n"
            ]
          },
          "metadata": {},
          "execution_count": 203
        }
      ]
    },
    {
      "cell_type": "code",
      "source": [
        "scaler = StandardScaler()"
      ],
      "metadata": {
        "id": "At-Mft4HfL2o"
      },
      "execution_count": 204,
      "outputs": []
    },
    {
      "cell_type": "code",
      "source": [
        "scaled = scaler.fit_transform(df)"
      ],
      "metadata": {
        "id": "Ra2oLfWnl72O"
      },
      "execution_count": 205,
      "outputs": []
    },
    {
      "cell_type": "code",
      "execution_count": 206,
      "metadata": {
        "id": "fwy1elniewF4"
      },
      "outputs": [],
      "source": [
        "x = df.drop('Outcome',axis=1)\n",
        "y = df['Outcome']"
      ]
    },
    {
      "cell_type": "code",
      "source": [
        "x_train,x_test,y_train,y_test=train_test_split(x,y,test_size=0.3,random_state=42)"
      ],
      "metadata": {
        "id": "W2fWogghjMds"
      },
      "execution_count": 207,
      "outputs": []
    },
    {
      "cell_type": "code",
      "source": [
        "x_test.shape"
      ],
      "metadata": {
        "colab": {
          "base_uri": "https://localhost:8080/"
        },
        "id": "-KITHpzXkTVC",
        "outputId": "c0634f4b-023b-46b8-d60a-95b41478a4f0"
      },
      "execution_count": 208,
      "outputs": [
        {
          "output_type": "execute_result",
          "data": {
            "text/plain": [
              "(231, 2)"
            ]
          },
          "metadata": {},
          "execution_count": 208
        }
      ]
    },
    {
      "cell_type": "code",
      "source": [
        "y_test.shape"
      ],
      "metadata": {
        "colab": {
          "base_uri": "https://localhost:8080/"
        },
        "id": "JkVtoLaIk6GO",
        "outputId": "6d5d329d-c286-4478-922c-4b490bedc423"
      },
      "execution_count": 209,
      "outputs": [
        {
          "output_type": "execute_result",
          "data": {
            "text/plain": [
              "(231,)"
            ]
          },
          "metadata": {},
          "execution_count": 209
        }
      ]
    },
    {
      "cell_type": "code",
      "source": [
        "model = models.Sequential()\n",
        "model.add(layers.Dense(3,activation = 'relu',input_shape=(2,)))\n",
        "model.add(layers.Dense(8,activation = 'relu'))\n",
        "model.add(layers.Dense(1,activation = 'sigmoid'))"
      ],
      "metadata": {
        "id": "ePt-wf24l6j5"
      },
      "execution_count": 210,
      "outputs": []
    },
    {
      "cell_type": "markdown",
      "source": [
        "8*3 + 8 = 32\n",
        "\n",
        "No. of weights =  24\n",
        "\n",
        "No. of biases = 8"
      ],
      "metadata": {
        "id": "-4JSlibgs7dc"
      }
    },
    {
      "cell_type": "code",
      "source": [
        "model.summary()"
      ],
      "metadata": {
        "colab": {
          "base_uri": "https://localhost:8080/"
        },
        "id": "SrMQ_kpTl61N",
        "outputId": "c9ac4847-3c76-4236-c45a-ac3e8b49aca3"
      },
      "execution_count": 211,
      "outputs": [
        {
          "output_type": "stream",
          "name": "stdout",
          "text": [
            "Model: \"sequential_39\"\n",
            "_________________________________________________________________\n",
            " Layer (type)                Output Shape              Param #   \n",
            "=================================================================\n",
            " dense_151 (Dense)           (None, 3)                 9         \n",
            "                                                                 \n",
            " dense_152 (Dense)           (None, 8)                 32        \n",
            "                                                                 \n",
            " dense_153 (Dense)           (None, 1)                 9         \n",
            "                                                                 \n",
            "=================================================================\n",
            "Total params: 50\n",
            "Trainable params: 50\n",
            "Non-trainable params: 0\n",
            "_________________________________________________________________\n"
          ]
        }
      ]
    },
    {
      "cell_type": "code",
      "source": [
        "model.compile(loss = 'binary_crossentropy',optimizer = Adam(),metrics = ['accuracy'])"
      ],
      "metadata": {
        "id": "0lthN0iTtN62"
      },
      "execution_count": 212,
      "outputs": []
    },
    {
      "cell_type": "code",
      "source": [
        "model.fit(x_train,y_train,epochs=10)"
      ],
      "metadata": {
        "colab": {
          "base_uri": "https://localhost:8080/"
        },
        "id": "J_n05y1itjnP",
        "outputId": "e391d60d-f7b7-415f-e63f-3a9e14f04a53"
      },
      "execution_count": 213,
      "outputs": [
        {
          "output_type": "stream",
          "name": "stdout",
          "text": [
            "Epoch 1/10\n",
            "17/17 [==============================] - 1s 2ms/step - loss: 5.8700 - accuracy: 0.6499\n",
            "Epoch 2/10\n",
            "17/17 [==============================] - 0s 2ms/step - loss: 3.9054 - accuracy: 0.6499\n",
            "Epoch 3/10\n",
            "17/17 [==============================] - 0s 2ms/step - loss: 2.0730 - accuracy: 0.6499\n",
            "Epoch 4/10\n",
            "17/17 [==============================] - 0s 2ms/step - loss: 0.7754 - accuracy: 0.6276\n",
            "Epoch 5/10\n",
            "17/17 [==============================] - 0s 2ms/step - loss: 0.7208 - accuracy: 0.5326\n",
            "Epoch 6/10\n",
            "17/17 [==============================] - 0s 2ms/step - loss: 0.6852 - accuracy: 0.6276\n",
            "Epoch 7/10\n",
            "17/17 [==============================] - 0s 2ms/step - loss: 0.6822 - accuracy: 0.6164\n",
            "Epoch 8/10\n",
            "17/17 [==============================] - 0s 2ms/step - loss: 0.6837 - accuracy: 0.5754\n",
            "Epoch 9/10\n",
            "17/17 [==============================] - 0s 2ms/step - loss: 0.6810 - accuracy: 0.6220\n",
            "Epoch 10/10\n",
            "17/17 [==============================] - 0s 2ms/step - loss: 0.6794 - accuracy: 0.6108\n"
          ]
        },
        {
          "output_type": "execute_result",
          "data": {
            "text/plain": [
              "<keras.callbacks.History at 0x78172057f700>"
            ]
          },
          "metadata": {},
          "execution_count": 213
        }
      ]
    },
    {
      "cell_type": "code",
      "source": [
        "model.fit(x_test,y_test,epochs=10)"
      ],
      "metadata": {
        "colab": {
          "base_uri": "https://localhost:8080/"
        },
        "id": "-QZ7k5Q0uMCR",
        "outputId": "144836da-285f-43b1-ffd3-ba1c7a0886a0"
      },
      "execution_count": 214,
      "outputs": [
        {
          "output_type": "stream",
          "name": "stdout",
          "text": [
            "Epoch 1/10\n",
            "8/8 [==============================] - 0s 2ms/step - loss: 0.6758 - accuracy: 0.6320\n",
            "Epoch 2/10\n",
            "8/8 [==============================] - 0s 3ms/step - loss: 0.6748 - accuracy: 0.6364\n",
            "Epoch 3/10\n",
            "8/8 [==============================] - 0s 3ms/step - loss: 0.6744 - accuracy: 0.6277\n",
            "Epoch 4/10\n",
            "8/8 [==============================] - 0s 3ms/step - loss: 0.6745 - accuracy: 0.6320\n",
            "Epoch 5/10\n",
            "8/8 [==============================] - 0s 4ms/step - loss: 0.6740 - accuracy: 0.6407\n",
            "Epoch 6/10\n",
            "8/8 [==============================] - 0s 3ms/step - loss: 0.6755 - accuracy: 0.6320\n",
            "Epoch 7/10\n",
            "8/8 [==============================] - 0s 3ms/step - loss: 0.6753 - accuracy: 0.6190\n",
            "Epoch 8/10\n",
            "8/8 [==============================] - 0s 3ms/step - loss: 0.6737 - accuracy: 0.6277\n",
            "Epoch 9/10\n",
            "8/8 [==============================] - 0s 2ms/step - loss: 0.6724 - accuracy: 0.6407\n",
            "Epoch 10/10\n",
            "8/8 [==============================] - 0s 2ms/step - loss: 0.6770 - accuracy: 0.6234\n"
          ]
        },
        {
          "output_type": "execute_result",
          "data": {
            "text/plain": [
              "<keras.callbacks.History at 0x78171c3e0f10>"
            ]
          },
          "metadata": {},
          "execution_count": 214
        }
      ]
    },
    {
      "cell_type": "markdown",
      "source": [
        "Training accuracy > Testing accuracy\n",
        "\n",
        "High variance, High bias"
      ],
      "metadata": {
        "id": "pqjlyQzJxuA9"
      }
    },
    {
      "cell_type": "markdown",
      "source": [
        "\n",
        "\n",
        "---\n",
        "\n",
        "\n",
        "Improving the performance by changing\n",
        "\n",
        "\n",
        "\n",
        "1.   Number of epochs\n",
        "2.   Number of hidden layers\n",
        "3.   Activation function\n",
        "\n",
        "\n"
      ],
      "metadata": {
        "id": "KyzxqPqOXOjU"
      }
    },
    {
      "cell_type": "code",
      "source": [
        "model1 = models.Sequential()\n",
        "model1.add(layers.Dense(64,activation = 'elu',input_shape=(2,)))\n",
        "model1.add(layers.Dense(128,activation = 'elu'))\n",
        "model1.add(layers.Dense(128,activation = 'elu'))\n",
        "model1.add(layers.Dense(1,activation = 'sigmoid'))"
      ],
      "metadata": {
        "id": "USKiM7i-wqyl"
      },
      "execution_count": 215,
      "outputs": []
    },
    {
      "cell_type": "code",
      "source": [
        "model1.summary()"
      ],
      "metadata": {
        "colab": {
          "base_uri": "https://localhost:8080/"
        },
        "id": "h9I5UlyyYa6T",
        "outputId": "09e4006a-2cd9-4fce-fa37-09e6b3c9dc2e"
      },
      "execution_count": 216,
      "outputs": [
        {
          "output_type": "stream",
          "name": "stdout",
          "text": [
            "Model: \"sequential_40\"\n",
            "_________________________________________________________________\n",
            " Layer (type)                Output Shape              Param #   \n",
            "=================================================================\n",
            " dense_154 (Dense)           (None, 64)                192       \n",
            "                                                                 \n",
            " dense_155 (Dense)           (None, 128)               8320      \n",
            "                                                                 \n",
            " dense_156 (Dense)           (None, 128)               16512     \n",
            "                                                                 \n",
            " dense_157 (Dense)           (None, 1)                 129       \n",
            "                                                                 \n",
            "=================================================================\n",
            "Total params: 25,153\n",
            "Trainable params: 25,153\n",
            "Non-trainable params: 0\n",
            "_________________________________________________________________\n"
          ]
        }
      ]
    },
    {
      "cell_type": "code",
      "source": [
        "model1.compile(loss = 'binary_crossentropy',optimizer = Adam(),metrics = ['accuracy'])"
      ],
      "metadata": {
        "id": "L0zTnQhDYbmB"
      },
      "execution_count": 217,
      "outputs": []
    },
    {
      "cell_type": "code",
      "source": [
        "model1.fit(x_train,y_train,epochs=20)"
      ],
      "metadata": {
        "colab": {
          "base_uri": "https://localhost:8080/"
        },
        "id": "acIGN0OvYbxG",
        "outputId": "13adc554-6945-4e6f-e3a5-ab0661afb0b9"
      },
      "execution_count": 218,
      "outputs": [
        {
          "output_type": "stream",
          "name": "stdout",
          "text": [
            "Epoch 1/20\n",
            "17/17 [==============================] - 1s 3ms/step - loss: 1.1349 - accuracy: 0.5251\n",
            "Epoch 2/20\n",
            "17/17 [==============================] - 0s 3ms/step - loss: 0.6495 - accuracy: 0.6574\n",
            "Epoch 3/20\n",
            "17/17 [==============================] - 0s 2ms/step - loss: 0.5477 - accuracy: 0.7244\n",
            "Epoch 4/20\n",
            "17/17 [==============================] - 0s 3ms/step - loss: 0.5228 - accuracy: 0.7188\n",
            "Epoch 5/20\n",
            "17/17 [==============================] - 0s 2ms/step - loss: 0.5529 - accuracy: 0.7169\n",
            "Epoch 6/20\n",
            "17/17 [==============================] - 0s 2ms/step - loss: 0.4819 - accuracy: 0.7765\n",
            "Epoch 7/20\n",
            "17/17 [==============================] - 0s 2ms/step - loss: 0.6054 - accuracy: 0.7225\n",
            "Epoch 8/20\n",
            "17/17 [==============================] - 0s 2ms/step - loss: 0.6397 - accuracy: 0.6816\n",
            "Epoch 9/20\n",
            "17/17 [==============================] - 0s 3ms/step - loss: 0.6005 - accuracy: 0.7058\n",
            "Epoch 10/20\n",
            "17/17 [==============================] - 0s 2ms/step - loss: 0.4975 - accuracy: 0.7598\n",
            "Epoch 11/20\n",
            "17/17 [==============================] - 0s 3ms/step - loss: 0.5052 - accuracy: 0.7449\n",
            "Epoch 12/20\n",
            "17/17 [==============================] - 0s 2ms/step - loss: 0.6058 - accuracy: 0.7002\n",
            "Epoch 13/20\n",
            "17/17 [==============================] - 0s 3ms/step - loss: 0.5665 - accuracy: 0.7449\n",
            "Epoch 14/20\n",
            "17/17 [==============================] - 0s 3ms/step - loss: 0.5677 - accuracy: 0.7300\n",
            "Epoch 15/20\n",
            "17/17 [==============================] - 0s 2ms/step - loss: 0.5253 - accuracy: 0.7523\n",
            "Epoch 16/20\n",
            "17/17 [==============================] - 0s 2ms/step - loss: 0.5149 - accuracy: 0.7579\n",
            "Epoch 17/20\n",
            "17/17 [==============================] - 0s 2ms/step - loss: 0.4856 - accuracy: 0.7691\n",
            "Epoch 18/20\n",
            "17/17 [==============================] - 0s 2ms/step - loss: 0.5443 - accuracy: 0.7300\n",
            "Epoch 19/20\n",
            "17/17 [==============================] - 0s 3ms/step - loss: 0.5255 - accuracy: 0.7356\n",
            "Epoch 20/20\n",
            "17/17 [==============================] - 0s 2ms/step - loss: 0.4953 - accuracy: 0.7505\n"
          ]
        },
        {
          "output_type": "execute_result",
          "data": {
            "text/plain": [
              "<keras.callbacks.History at 0x7817204971f0>"
            ]
          },
          "metadata": {},
          "execution_count": 218
        }
      ]
    },
    {
      "cell_type": "code",
      "source": [
        "model1.fit(x_test,y_test,epochs=20)"
      ],
      "metadata": {
        "colab": {
          "base_uri": "https://localhost:8080/"
        },
        "id": "lc9ANI9tYb5L",
        "outputId": "a80e6ba7-d90f-4798-abee-f4ec61537ba4"
      },
      "execution_count": 219,
      "outputs": [
        {
          "output_type": "stream",
          "name": "stdout",
          "text": [
            "Epoch 1/20\n",
            "8/8 [==============================] - 0s 3ms/step - loss: 0.5603 - accuracy: 0.7403\n",
            "Epoch 2/20\n",
            "8/8 [==============================] - 0s 3ms/step - loss: 0.5874 - accuracy: 0.7143\n",
            "Epoch 3/20\n",
            "8/8 [==============================] - 0s 4ms/step - loss: 0.5564 - accuracy: 0.7273\n",
            "Epoch 4/20\n",
            "8/8 [==============================] - 0s 3ms/step - loss: 0.5608 - accuracy: 0.7013\n",
            "Epoch 5/20\n",
            "8/8 [==============================] - 0s 3ms/step - loss: 0.5272 - accuracy: 0.7446\n",
            "Epoch 6/20\n",
            "8/8 [==============================] - 0s 3ms/step - loss: 0.5480 - accuracy: 0.7100\n",
            "Epoch 7/20\n",
            "8/8 [==============================] - 0s 3ms/step - loss: 0.7452 - accuracy: 0.6450\n",
            "Epoch 8/20\n",
            "8/8 [==============================] - 0s 3ms/step - loss: 0.5806 - accuracy: 0.6883\n",
            "Epoch 9/20\n",
            "8/8 [==============================] - 0s 3ms/step - loss: 0.5390 - accuracy: 0.7186\n",
            "Epoch 10/20\n",
            "8/8 [==============================] - 0s 3ms/step - loss: 0.5332 - accuracy: 0.7446\n",
            "Epoch 11/20\n",
            "8/8 [==============================] - 0s 3ms/step - loss: 0.5357 - accuracy: 0.7489\n",
            "Epoch 12/20\n",
            "8/8 [==============================] - 0s 3ms/step - loss: 0.5413 - accuracy: 0.7359\n",
            "Epoch 13/20\n",
            "8/8 [==============================] - 0s 3ms/step - loss: 0.5947 - accuracy: 0.7143\n",
            "Epoch 14/20\n",
            "8/8 [==============================] - 0s 3ms/step - loss: 0.5516 - accuracy: 0.7273\n",
            "Epoch 15/20\n",
            "8/8 [==============================] - 0s 3ms/step - loss: 0.5331 - accuracy: 0.7359\n",
            "Epoch 16/20\n",
            "8/8 [==============================] - 0s 3ms/step - loss: 0.5993 - accuracy: 0.6710\n",
            "Epoch 17/20\n",
            "8/8 [==============================] - 0s 3ms/step - loss: 0.5917 - accuracy: 0.6753\n",
            "Epoch 18/20\n",
            "8/8 [==============================] - 0s 3ms/step - loss: 0.5336 - accuracy: 0.7446\n",
            "Epoch 19/20\n",
            "8/8 [==============================] - 0s 4ms/step - loss: 0.6995 - accuracy: 0.6753\n",
            "Epoch 20/20\n",
            "8/8 [==============================] - 0s 3ms/step - loss: 0.5417 - accuracy: 0.7403\n"
          ]
        },
        {
          "output_type": "execute_result",
          "data": {
            "text/plain": [
              "<keras.callbacks.History at 0x7817256471c0>"
            ]
          },
          "metadata": {},
          "execution_count": 219
        }
      ]
    },
    {
      "cell_type": "markdown",
      "source": [
        "Got higher accuracy by using\n",
        "\n",
        "1.   **Activation function** - *elu* for the input and hidden layers and sigmoid for the output layer.\n",
        "2.   **Number of epochs** - 20\n",
        "3.   **Number of layers** - 4\n",
        "4.   **Number of neurons** - 64 for the input layer and 128 for the hidden layers.\n",
        "\n"
      ],
      "metadata": {
        "id": "TvJY5B7qcQEC"
      }
    }
  ]
}