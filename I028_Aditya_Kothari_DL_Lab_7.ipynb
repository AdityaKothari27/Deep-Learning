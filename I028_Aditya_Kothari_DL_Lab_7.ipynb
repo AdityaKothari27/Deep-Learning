{
  "nbformat": 4,
  "nbformat_minor": 0,
  "metadata": {
    "colab": {
      "provenance": []
    },
    "kernelspec": {
      "name": "python3",
      "display_name": "Python 3"
    },
    "language_info": {
      "name": "python"
    }
  },
  "cells": [
    {
      "cell_type": "markdown",
      "source": [
        "Name - Aditya Kothari\n",
        "\n",
        "Roll no. - I028\n",
        "\n",
        "Batch - B1"
      ],
      "metadata": {
        "id": "7gUAFWl-stfo"
      }
    },
    {
      "cell_type": "code",
      "source": [
        "import pandas as pd\n",
        "import numpy as np\n",
        "from keras.datasets import fashion_mnist\n",
        "from sklearn.model_selection import train_test_split\n",
        "from keras.models import Sequential\n",
        "from keras.layers import Dense, Dropout\n",
        "from keras.regularizers import l2\n",
        "import matplotlib.pyplot as plt"
      ],
      "metadata": {
        "id": "nXYM4AbdssJh"
      },
      "execution_count": 1,
      "outputs": []
    },
    {
      "cell_type": "code",
      "source": [
        "(train_images, train_labels), (test_images, test_labels) = fashion_mnist.load_data()"
      ],
      "metadata": {
        "colab": {
          "base_uri": "https://localhost:8080/"
        },
        "id": "P7a5UUX-vplr",
        "outputId": "00a0a7d4-6295-4280-d3da-34e5d4398ecf"
      },
      "execution_count": 2,
      "outputs": [
        {
          "output_type": "stream",
          "name": "stdout",
          "text": [
            "Downloading data from https://storage.googleapis.com/tensorflow/tf-keras-datasets/train-labels-idx1-ubyte.gz\n",
            "29515/29515 [==============================] - 0s 0us/step\n",
            "Downloading data from https://storage.googleapis.com/tensorflow/tf-keras-datasets/train-images-idx3-ubyte.gz\n",
            "26421880/26421880 [==============================] - 0s 0us/step\n",
            "Downloading data from https://storage.googleapis.com/tensorflow/tf-keras-datasets/t10k-labels-idx1-ubyte.gz\n",
            "5148/5148 [==============================] - 0s 0us/step\n",
            "Downloading data from https://storage.googleapis.com/tensorflow/tf-keras-datasets/t10k-images-idx3-ubyte.gz\n",
            "4422102/4422102 [==============================] - 0s 0us/step\n"
          ]
        }
      ]
    },
    {
      "cell_type": "code",
      "source": [
        "fashion_mnist.load_data()"
      ],
      "metadata": {
        "colab": {
          "base_uri": "https://localhost:8080/"
        },
        "id": "7wtWmzPi7ijv",
        "outputId": "34db67d2-40bd-4bfd-df04-f33c84136fb6"
      },
      "execution_count": 3,
      "outputs": [
        {
          "output_type": "execute_result",
          "data": {
            "text/plain": [
              "((array([[[0, 0, 0, ..., 0, 0, 0],\n",
              "          [0, 0, 0, ..., 0, 0, 0],\n",
              "          [0, 0, 0, ..., 0, 0, 0],\n",
              "          ...,\n",
              "          [0, 0, 0, ..., 0, 0, 0],\n",
              "          [0, 0, 0, ..., 0, 0, 0],\n",
              "          [0, 0, 0, ..., 0, 0, 0]],\n",
              "  \n",
              "         [[0, 0, 0, ..., 0, 0, 0],\n",
              "          [0, 0, 0, ..., 0, 0, 0],\n",
              "          [0, 0, 0, ..., 0, 0, 0],\n",
              "          ...,\n",
              "          [0, 0, 0, ..., 0, 0, 0],\n",
              "          [0, 0, 0, ..., 0, 0, 0],\n",
              "          [0, 0, 0, ..., 0, 0, 0]],\n",
              "  \n",
              "         [[0, 0, 0, ..., 0, 0, 0],\n",
              "          [0, 0, 0, ..., 0, 0, 0],\n",
              "          [0, 0, 0, ..., 0, 0, 0],\n",
              "          ...,\n",
              "          [0, 0, 0, ..., 0, 0, 0],\n",
              "          [0, 0, 0, ..., 0, 0, 0],\n",
              "          [0, 0, 0, ..., 0, 0, 0]],\n",
              "  \n",
              "         ...,\n",
              "  \n",
              "         [[0, 0, 0, ..., 0, 0, 0],\n",
              "          [0, 0, 0, ..., 0, 0, 0],\n",
              "          [0, 0, 0, ..., 0, 0, 0],\n",
              "          ...,\n",
              "          [0, 0, 0, ..., 0, 0, 0],\n",
              "          [0, 0, 0, ..., 0, 0, 0],\n",
              "          [0, 0, 0, ..., 0, 0, 0]],\n",
              "  \n",
              "         [[0, 0, 0, ..., 0, 0, 0],\n",
              "          [0, 0, 0, ..., 0, 0, 0],\n",
              "          [0, 0, 0, ..., 0, 0, 0],\n",
              "          ...,\n",
              "          [0, 0, 0, ..., 0, 0, 0],\n",
              "          [0, 0, 0, ..., 0, 0, 0],\n",
              "          [0, 0, 0, ..., 0, 0, 0]],\n",
              "  \n",
              "         [[0, 0, 0, ..., 0, 0, 0],\n",
              "          [0, 0, 0, ..., 0, 0, 0],\n",
              "          [0, 0, 0, ..., 0, 0, 0],\n",
              "          ...,\n",
              "          [0, 0, 0, ..., 0, 0, 0],\n",
              "          [0, 0, 0, ..., 0, 0, 0],\n",
              "          [0, 0, 0, ..., 0, 0, 0]]], dtype=uint8),\n",
              "  array([9, 0, 0, ..., 3, 0, 5], dtype=uint8)),\n",
              " (array([[[0, 0, 0, ..., 0, 0, 0],\n",
              "          [0, 0, 0, ..., 0, 0, 0],\n",
              "          [0, 0, 0, ..., 0, 0, 0],\n",
              "          ...,\n",
              "          [0, 0, 0, ..., 0, 0, 0],\n",
              "          [0, 0, 0, ..., 0, 0, 0],\n",
              "          [0, 0, 0, ..., 0, 0, 0]],\n",
              "  \n",
              "         [[0, 0, 0, ..., 0, 0, 0],\n",
              "          [0, 0, 0, ..., 0, 0, 0],\n",
              "          [0, 0, 0, ..., 0, 0, 0],\n",
              "          ...,\n",
              "          [0, 0, 0, ..., 0, 0, 0],\n",
              "          [0, 0, 0, ..., 0, 0, 0],\n",
              "          [0, 0, 0, ..., 0, 0, 0]],\n",
              "  \n",
              "         [[0, 0, 0, ..., 0, 0, 0],\n",
              "          [0, 0, 0, ..., 0, 0, 0],\n",
              "          [0, 0, 0, ..., 0, 0, 0],\n",
              "          ...,\n",
              "          [0, 0, 0, ..., 0, 0, 0],\n",
              "          [0, 0, 0, ..., 0, 0, 0],\n",
              "          [0, 0, 0, ..., 0, 0, 0]],\n",
              "  \n",
              "         ...,\n",
              "  \n",
              "         [[0, 0, 0, ..., 0, 0, 0],\n",
              "          [0, 0, 0, ..., 0, 0, 0],\n",
              "          [0, 0, 0, ..., 0, 0, 0],\n",
              "          ...,\n",
              "          [0, 0, 0, ..., 0, 0, 0],\n",
              "          [0, 0, 0, ..., 0, 0, 0],\n",
              "          [0, 0, 0, ..., 0, 0, 0]],\n",
              "  \n",
              "         [[0, 0, 0, ..., 0, 0, 0],\n",
              "          [0, 0, 0, ..., 0, 0, 0],\n",
              "          [0, 0, 0, ..., 0, 0, 0],\n",
              "          ...,\n",
              "          [0, 0, 0, ..., 0, 0, 0],\n",
              "          [0, 0, 0, ..., 0, 0, 0],\n",
              "          [0, 0, 0, ..., 0, 0, 0]],\n",
              "  \n",
              "         [[0, 0, 0, ..., 0, 0, 0],\n",
              "          [0, 0, 0, ..., 0, 0, 0],\n",
              "          [0, 0, 0, ..., 0, 0, 0],\n",
              "          ...,\n",
              "          [0, 0, 0, ..., 0, 0, 0],\n",
              "          [0, 0, 0, ..., 0, 0, 0],\n",
              "          [0, 0, 0, ..., 0, 0, 0]]], dtype=uint8),\n",
              "  array([9, 2, 1, ..., 8, 1, 5], dtype=uint8)))"
            ]
          },
          "metadata": {},
          "execution_count": 3
        }
      ]
    },
    {
      "cell_type": "code",
      "execution_count": 4,
      "metadata": {
        "colab": {
          "base_uri": "https://localhost:8080/"
        },
        "id": "jGn_OW0ysSij",
        "outputId": "797f4cce-745f-446e-b2c3-ebe32f712fed"
      },
      "outputs": [
        {
          "output_type": "stream",
          "name": "stdout",
          "text": [
            "Number of training samples: 60000\n",
            "Number of test samples: 10000\n",
            "Image shape: (28, 28)\n"
          ]
        }
      ],
      "source": [
        "print(\"Number of training samples:\", len(train_images))\n",
        "print(\"Number of test samples:\", len(test_images))\n",
        "print(\"Image shape:\", train_images[0].shape)"
      ]
    },
    {
      "cell_type": "code",
      "source": [
        "num_classes = len(np.unique(train_labels))\n",
        "print(\"Number of classes:\", num_classes)"
      ],
      "metadata": {
        "colab": {
          "base_uri": "https://localhost:8080/"
        },
        "id": "6Om8j6akwqxi",
        "outputId": "93938927-7345-47c3-8bbb-88a2573b0210"
      },
      "execution_count": 5,
      "outputs": [
        {
          "output_type": "stream",
          "name": "stdout",
          "text": [
            "Number of classes: 10\n"
          ]
        }
      ]
    },
    {
      "cell_type": "code",
      "source": [
        "train_images = train_images.reshape((len(train_images), -1)) / 255.0\n",
        "test_images = test_images.reshape((len(test_images), -1)) / 255.0\n",
        "\n",
        "train_images, val_images, train_labels, val_labels = train_test_split(train_images, train_labels, test_size=0.2, random_state=42)"
      ],
      "metadata": {
        "id": "GMFBoNXzwq_k"
      },
      "execution_count": 6,
      "outputs": []
    },
    {
      "cell_type": "code",
      "source": [
        "model = Sequential()\n",
        "model.add(Dense(128, activation='relu', input_shape=(784,)))\n",
        "model.add(Dense(64, activation='relu'))\n",
        "model.add(Dense(num_classes, activation='sigmoid'))"
      ],
      "metadata": {
        "id": "AhT2lDmswrIR"
      },
      "execution_count": 7,
      "outputs": []
    },
    {
      "cell_type": "code",
      "source": [
        "model.compile(optimizer='adam', loss='sparse_categorical_crossentropy', metrics=['accuracy'])"
      ],
      "metadata": {
        "id": "JYQsat4_xQy6"
      },
      "execution_count": 8,
      "outputs": []
    },
    {
      "cell_type": "code",
      "source": [
        "history = model.fit(train_images, train_labels, epochs=10, batch_size=64, validation_data=(val_images, val_labels))"
      ],
      "metadata": {
        "colab": {
          "base_uri": "https://localhost:8080/"
        },
        "id": "1BoX_OGWxT6R",
        "outputId": "9cac7c45-6e9d-46aa-c399-0b17c79ac621"
      },
      "execution_count": 9,
      "outputs": [
        {
          "output_type": "stream",
          "name": "stdout",
          "text": [
            "Epoch 1/10\n",
            "750/750 [==============================] - 5s 6ms/step - loss: 0.5424 - accuracy: 0.8095 - val_loss: 0.4156 - val_accuracy: 0.8537\n",
            "Epoch 2/10\n",
            "750/750 [==============================] - 6s 8ms/step - loss: 0.3914 - accuracy: 0.8585 - val_loss: 0.3812 - val_accuracy: 0.8621\n",
            "Epoch 3/10\n",
            "750/750 [==============================] - 7s 9ms/step - loss: 0.3482 - accuracy: 0.8717 - val_loss: 0.3659 - val_accuracy: 0.8689\n",
            "Epoch 4/10\n",
            "750/750 [==============================] - 5s 7ms/step - loss: 0.3224 - accuracy: 0.8813 - val_loss: 0.3376 - val_accuracy: 0.8764\n",
            "Epoch 5/10\n",
            "750/750 [==============================] - 3s 4ms/step - loss: 0.3028 - accuracy: 0.8881 - val_loss: 0.3248 - val_accuracy: 0.8823\n",
            "Epoch 6/10\n",
            "750/750 [==============================] - 5s 6ms/step - loss: 0.2886 - accuracy: 0.8932 - val_loss: 0.3440 - val_accuracy: 0.8763\n",
            "Epoch 7/10\n",
            "750/750 [==============================] - 3s 4ms/step - loss: 0.2775 - accuracy: 0.8968 - val_loss: 0.3223 - val_accuracy: 0.8826\n",
            "Epoch 8/10\n",
            "750/750 [==============================] - 3s 4ms/step - loss: 0.2668 - accuracy: 0.9001 - val_loss: 0.3307 - val_accuracy: 0.8798\n",
            "Epoch 9/10\n",
            "750/750 [==============================] - 4s 5ms/step - loss: 0.2540 - accuracy: 0.9041 - val_loss: 0.3316 - val_accuracy: 0.8798\n",
            "Epoch 10/10\n",
            "750/750 [==============================] - 4s 5ms/step - loss: 0.2457 - accuracy: 0.9074 - val_loss: 0.3270 - val_accuracy: 0.8819\n"
          ]
        }
      ]
    },
    {
      "cell_type": "code",
      "source": [
        "model_reg = Sequential()\n",
        "model_reg.add(Dense(128, activation='relu', input_shape=(784,), kernel_regularizer=l2(0.01)))\n",
        "model_reg.add(Dropout(0.5))\n",
        "model_reg.add(Dense(64, activation='relu', kernel_regularizer=l2(0.01)))\n",
        "model_reg.add(Dropout(0.3))\n",
        "model_reg.add(Dense(num_classes, activation='sigmoid'))"
      ],
      "metadata": {
        "id": "Qqz7weo8xXwz"
      },
      "execution_count": 10,
      "outputs": []
    },
    {
      "cell_type": "code",
      "source": [
        "model_reg.compile(optimizer='adam', loss='sparse_categorical_crossentropy', metrics=['accuracy'])\n",
        "\n",
        "history_reg = model_reg.fit(train_images, train_labels, epochs=10, batch_size=64, validation_data=(val_images, val_labels))"
      ],
      "metadata": {
        "colab": {
          "base_uri": "https://localhost:8080/"
        },
        "id": "nd_ZNBwNxb6k",
        "outputId": "846b05dc-b7a6-4fa2-af4b-7ee68b65ea78"
      },
      "execution_count": 11,
      "outputs": [
        {
          "output_type": "stream",
          "name": "stdout",
          "text": [
            "Epoch 1/10\n",
            "750/750 [==============================] - 5s 5ms/step - loss: 1.5308 - accuracy: 0.6951 - val_loss: 0.8317 - val_accuracy: 0.8022\n",
            "Epoch 2/10\n",
            "750/750 [==============================] - 4s 6ms/step - loss: 0.9025 - accuracy: 0.7619 - val_loss: 0.7598 - val_accuracy: 0.8106\n",
            "Epoch 3/10\n",
            "750/750 [==============================] - 3s 5ms/step - loss: 0.8592 - accuracy: 0.7662 - val_loss: 0.7391 - val_accuracy: 0.8068\n",
            "Epoch 4/10\n",
            "750/750 [==============================] - 3s 5ms/step - loss: 0.8398 - accuracy: 0.7693 - val_loss: 0.7303 - val_accuracy: 0.8122\n",
            "Epoch 5/10\n",
            "750/750 [==============================] - 5s 7ms/step - loss: 0.8255 - accuracy: 0.7722 - val_loss: 0.7158 - val_accuracy: 0.8049\n",
            "Epoch 6/10\n",
            "750/750 [==============================] - 4s 5ms/step - loss: 0.8171 - accuracy: 0.7724 - val_loss: 0.7166 - val_accuracy: 0.8130\n",
            "Epoch 7/10\n",
            "750/750 [==============================] - 4s 5ms/step - loss: 0.8076 - accuracy: 0.7735 - val_loss: 0.6855 - val_accuracy: 0.8112\n",
            "Epoch 8/10\n",
            "750/750 [==============================] - 5s 6ms/step - loss: 0.8072 - accuracy: 0.7746 - val_loss: 0.6750 - val_accuracy: 0.8162\n",
            "Epoch 9/10\n",
            "750/750 [==============================] - 4s 5ms/step - loss: 0.7996 - accuracy: 0.7763 - val_loss: 0.6918 - val_accuracy: 0.8070\n",
            "Epoch 10/10\n",
            "750/750 [==============================] - 4s 5ms/step - loss: 0.8020 - accuracy: 0.7760 - val_loss: 0.6707 - val_accuracy: 0.8158\n"
          ]
        }
      ]
    },
    {
      "cell_type": "code",
      "source": [
        "optimizers = ['SGD', 'RMSprop', 'Adagrad', 'adam']\n",
        "best_optimizer = None\n",
        "best_accuracy = 0.0\n",
        "\n",
        "for optimizer_name in optimizers:\n",
        "    optimizer_model = Sequential()\n",
        "    optimizer_model.add(Dense(300, activation='relu', input_shape=(784,)))\n",
        "    optimizer_model.add(Dense(200, activation='relu'))\n",
        "    optimizer_model.add(Dense(50, activation='relu'))\n",
        "    optimizer_model.add(Dense(num_classes, activation='sigmoid'))\n",
        "\n",
        "    optimizer_model.compile(optimizer=optimizer_name, loss='sparse_categorical_crossentropy', metrics=['accuracy'])\n",
        "\n",
        "    history_optimizer = optimizer_model.fit(train_images, train_labels, epochs=17, batch_size=64, validation_data=(val_images, val_labels))\n",
        "\n",
        "    val_accuracy = history_optimizer.history['val_accuracy'][-1]\n",
        "    if val_accuracy > best_accuracy:\n",
        "        best_accuracy = val_accuracy\n",
        "        best_optimizer = optimizer_name\n",
        "\n",
        "print(\"Best optimizer:\", best_optimizer)\n",
        "print(\"Best validation accuracy:\", best_accuracy)"
      ],
      "metadata": {
        "colab": {
          "base_uri": "https://localhost:8080/"
        },
        "id": "7elWguwcxyzK",
        "outputId": "a209f777-5432-4484-97dd-1a0b9a36baff"
      },
      "execution_count": 12,
      "outputs": [
        {
          "output_type": "stream",
          "name": "stdout",
          "text": [
            "Epoch 1/17\n",
            "750/750 [==============================] - 6s 7ms/step - loss: 0.9296 - accuracy: 0.6954 - val_loss: 0.6301 - val_accuracy: 0.7869\n",
            "Epoch 2/17\n",
            "750/750 [==============================] - 4s 6ms/step - loss: 0.5570 - accuracy: 0.8074 - val_loss: 0.5091 - val_accuracy: 0.8241\n",
            "Epoch 3/17\n",
            "750/750 [==============================] - 6s 8ms/step - loss: 0.4920 - accuracy: 0.8293 - val_loss: 0.4891 - val_accuracy: 0.8292\n",
            "Epoch 4/17\n",
            "750/750 [==============================] - 4s 5ms/step - loss: 0.4575 - accuracy: 0.8396 - val_loss: 0.4430 - val_accuracy: 0.8459\n",
            "Epoch 5/17\n",
            "750/750 [==============================] - 4s 6ms/step - loss: 0.4353 - accuracy: 0.8477 - val_loss: 0.4441 - val_accuracy: 0.8422\n",
            "Epoch 6/17\n",
            "750/750 [==============================] - 5s 7ms/step - loss: 0.4169 - accuracy: 0.8547 - val_loss: 0.4315 - val_accuracy: 0.8490\n",
            "Epoch 7/17\n",
            "750/750 [==============================] - 4s 5ms/step - loss: 0.4015 - accuracy: 0.8584 - val_loss: 0.4115 - val_accuracy: 0.8571\n",
            "Epoch 8/17\n",
            "750/750 [==============================] - 4s 6ms/step - loss: 0.3885 - accuracy: 0.8637 - val_loss: 0.4020 - val_accuracy: 0.8588\n",
            "Epoch 9/17\n",
            "750/750 [==============================] - 5s 7ms/step - loss: 0.3786 - accuracy: 0.8661 - val_loss: 0.3909 - val_accuracy: 0.8605\n",
            "Epoch 10/17\n",
            "750/750 [==============================] - 4s 6ms/step - loss: 0.3694 - accuracy: 0.8689 - val_loss: 0.3896 - val_accuracy: 0.8608\n",
            "Epoch 11/17\n",
            "750/750 [==============================] - 5s 7ms/step - loss: 0.3612 - accuracy: 0.8719 - val_loss: 0.3876 - val_accuracy: 0.8595\n",
            "Epoch 12/17\n",
            "750/750 [==============================] - 4s 6ms/step - loss: 0.3533 - accuracy: 0.8734 - val_loss: 0.3809 - val_accuracy: 0.8647\n",
            "Epoch 13/17\n",
            "750/750 [==============================] - 4s 6ms/step - loss: 0.3459 - accuracy: 0.8773 - val_loss: 0.3732 - val_accuracy: 0.8687\n",
            "Epoch 14/17\n",
            "750/750 [==============================] - 5s 7ms/step - loss: 0.3380 - accuracy: 0.8801 - val_loss: 0.3679 - val_accuracy: 0.8689\n",
            "Epoch 15/17\n",
            "750/750 [==============================] - 4s 6ms/step - loss: 0.3331 - accuracy: 0.8815 - val_loss: 0.3554 - val_accuracy: 0.8724\n",
            "Epoch 16/17\n",
            "750/750 [==============================] - 4s 6ms/step - loss: 0.3265 - accuracy: 0.8834 - val_loss: 0.3607 - val_accuracy: 0.8719\n",
            "Epoch 17/17\n",
            "750/750 [==============================] - 5s 7ms/step - loss: 0.3202 - accuracy: 0.8846 - val_loss: 0.3847 - val_accuracy: 0.8601\n",
            "Epoch 1/17\n",
            "750/750 [==============================] - 6s 7ms/step - loss: 0.5460 - accuracy: 0.8013 - val_loss: 0.4315 - val_accuracy: 0.8401\n",
            "Epoch 2/17\n",
            "750/750 [==============================] - 6s 8ms/step - loss: 0.3843 - accuracy: 0.8594 - val_loss: 0.3682 - val_accuracy: 0.8618\n",
            "Epoch 3/17\n",
            "750/750 [==============================] - 5s 7ms/step - loss: 0.3435 - accuracy: 0.8731 - val_loss: 0.3567 - val_accuracy: 0.8714\n",
            "Epoch 4/17\n",
            "750/750 [==============================] - 6s 8ms/step - loss: 0.3186 - accuracy: 0.8817 - val_loss: 0.3489 - val_accuracy: 0.8774\n",
            "Epoch 5/17\n",
            "750/750 [==============================] - 5s 7ms/step - loss: 0.3036 - accuracy: 0.8877 - val_loss: 0.3509 - val_accuracy: 0.8727\n",
            "Epoch 6/17\n",
            "750/750 [==============================] - 5s 7ms/step - loss: 0.2917 - accuracy: 0.8919 - val_loss: 0.3385 - val_accuracy: 0.8794\n",
            "Epoch 7/17\n",
            "750/750 [==============================] - 6s 8ms/step - loss: 0.2834 - accuracy: 0.8953 - val_loss: 0.3402 - val_accuracy: 0.8840\n",
            "Epoch 8/17\n",
            "750/750 [==============================] - 5s 7ms/step - loss: 0.2759 - accuracy: 0.8989 - val_loss: 0.3715 - val_accuracy: 0.8798\n",
            "Epoch 9/17\n",
            "750/750 [==============================] - 6s 8ms/step - loss: 0.2675 - accuracy: 0.9006 - val_loss: 0.4803 - val_accuracy: 0.8454\n",
            "Epoch 10/17\n",
            "750/750 [==============================] - 5s 7ms/step - loss: 0.2640 - accuracy: 0.9039 - val_loss: 0.3944 - val_accuracy: 0.8785\n",
            "Epoch 11/17\n",
            "750/750 [==============================] - 6s 8ms/step - loss: 0.2581 - accuracy: 0.9058 - val_loss: 0.3597 - val_accuracy: 0.8870\n",
            "Epoch 12/17\n",
            "750/750 [==============================] - 5s 7ms/step - loss: 0.2597 - accuracy: 0.9069 - val_loss: 0.3788 - val_accuracy: 0.8825\n",
            "Epoch 13/17\n",
            "750/750 [==============================] - 5s 7ms/step - loss: 0.2528 - accuracy: 0.9079 - val_loss: 0.4097 - val_accuracy: 0.8844\n",
            "Epoch 14/17\n",
            "750/750 [==============================] - 6s 8ms/step - loss: 0.2516 - accuracy: 0.9087 - val_loss: 0.4377 - val_accuracy: 0.8848\n",
            "Epoch 15/17\n",
            "750/750 [==============================] - 5s 7ms/step - loss: 0.2461 - accuracy: 0.9090 - val_loss: 0.4216 - val_accuracy: 0.8807\n",
            "Epoch 16/17\n",
            "750/750 [==============================] - 6s 8ms/step - loss: 0.2431 - accuracy: 0.9135 - val_loss: 0.4765 - val_accuracy: 0.8840\n",
            "Epoch 17/17\n",
            "750/750 [==============================] - 5s 7ms/step - loss: 0.2408 - accuracy: 0.9131 - val_loss: 0.4048 - val_accuracy: 0.8885\n",
            "Epoch 1/17\n",
            "750/750 [==============================] - 9s 12ms/step - loss: 1.4061 - accuracy: 0.5853 - val_loss: 0.9482 - val_accuracy: 0.7002\n",
            "Epoch 2/17\n",
            "750/750 [==============================] - 5s 7ms/step - loss: 0.8104 - accuracy: 0.7392 - val_loss: 0.7425 - val_accuracy: 0.7614\n",
            "Epoch 3/17\n",
            "750/750 [==============================] - 6s 8ms/step - loss: 0.6831 - accuracy: 0.7808 - val_loss: 0.6596 - val_accuracy: 0.7864\n",
            "Epoch 4/17\n",
            "750/750 [==============================] - 5s 7ms/step - loss: 0.6193 - accuracy: 0.8004 - val_loss: 0.6113 - val_accuracy: 0.8024\n",
            "Epoch 5/17\n",
            "750/750 [==============================] - 5s 7ms/step - loss: 0.5790 - accuracy: 0.8118 - val_loss: 0.5770 - val_accuracy: 0.8084\n",
            "Epoch 6/17\n",
            "750/750 [==============================] - 6s 8ms/step - loss: 0.5507 - accuracy: 0.8192 - val_loss: 0.5517 - val_accuracy: 0.8158\n",
            "Epoch 7/17\n",
            "750/750 [==============================] - 5s 7ms/step - loss: 0.5293 - accuracy: 0.8249 - val_loss: 0.5331 - val_accuracy: 0.8227\n",
            "Epoch 8/17\n",
            "750/750 [==============================] - 6s 8ms/step - loss: 0.5128 - accuracy: 0.8294 - val_loss: 0.5176 - val_accuracy: 0.8271\n",
            "Epoch 9/17\n",
            "750/750 [==============================] - 5s 6ms/step - loss: 0.4993 - accuracy: 0.8331 - val_loss: 0.5073 - val_accuracy: 0.8296\n",
            "Epoch 10/17\n",
            "750/750 [==============================] - 5s 6ms/step - loss: 0.4879 - accuracy: 0.8356 - val_loss: 0.4958 - val_accuracy: 0.8311\n",
            "Epoch 11/17\n",
            "750/750 [==============================] - 6s 8ms/step - loss: 0.4785 - accuracy: 0.8386 - val_loss: 0.4863 - val_accuracy: 0.8328\n",
            "Epoch 12/17\n",
            "750/750 [==============================] - 5s 6ms/step - loss: 0.4702 - accuracy: 0.8414 - val_loss: 0.4781 - val_accuracy: 0.8363\n",
            "Epoch 13/17\n",
            "750/750 [==============================] - 6s 8ms/step - loss: 0.4628 - accuracy: 0.8436 - val_loss: 0.4728 - val_accuracy: 0.8375\n",
            "Epoch 14/17\n",
            "750/750 [==============================] - 5s 6ms/step - loss: 0.4564 - accuracy: 0.8459 - val_loss: 0.4687 - val_accuracy: 0.8378\n",
            "Epoch 15/17\n",
            "750/750 [==============================] - 6s 8ms/step - loss: 0.4507 - accuracy: 0.8475 - val_loss: 0.4603 - val_accuracy: 0.8397\n",
            "Epoch 16/17\n",
            "750/750 [==============================] - 5s 7ms/step - loss: 0.4453 - accuracy: 0.8489 - val_loss: 0.4568 - val_accuracy: 0.8419\n",
            "Epoch 17/17\n",
            "750/750 [==============================] - 5s 6ms/step - loss: 0.4406 - accuracy: 0.8507 - val_loss: 0.4515 - val_accuracy: 0.8439\n",
            "Epoch 1/17\n",
            "750/750 [==============================] - 7s 8ms/step - loss: 0.5124 - accuracy: 0.8187 - val_loss: 0.4264 - val_accuracy: 0.8446\n",
            "Epoch 2/17\n",
            "750/750 [==============================] - 5s 7ms/step - loss: 0.3696 - accuracy: 0.8637 - val_loss: 0.4026 - val_accuracy: 0.8490\n",
            "Epoch 3/17\n",
            "750/750 [==============================] - 6s 9ms/step - loss: 0.3327 - accuracy: 0.8773 - val_loss: 0.3413 - val_accuracy: 0.8753\n",
            "Epoch 4/17\n",
            "750/750 [==============================] - 5s 7ms/step - loss: 0.3081 - accuracy: 0.8859 - val_loss: 0.3365 - val_accuracy: 0.8752\n",
            "Epoch 5/17\n",
            "750/750 [==============================] - 6s 9ms/step - loss: 0.2928 - accuracy: 0.8913 - val_loss: 0.3495 - val_accuracy: 0.8751\n",
            "Epoch 6/17\n",
            "750/750 [==============================] - 5s 7ms/step - loss: 0.2751 - accuracy: 0.8974 - val_loss: 0.3236 - val_accuracy: 0.8839\n",
            "Epoch 7/17\n",
            "750/750 [==============================] - 7s 9ms/step - loss: 0.2625 - accuracy: 0.9016 - val_loss: 0.4441 - val_accuracy: 0.8513\n",
            "Epoch 8/17\n",
            "750/750 [==============================] - 5s 7ms/step - loss: 0.2508 - accuracy: 0.9053 - val_loss: 0.3441 - val_accuracy: 0.8813\n",
            "Epoch 9/17\n",
            "750/750 [==============================] - 7s 9ms/step - loss: 0.2399 - accuracy: 0.9093 - val_loss: 0.3228 - val_accuracy: 0.8856\n",
            "Epoch 10/17\n",
            "750/750 [==============================] - 5s 7ms/step - loss: 0.2307 - accuracy: 0.9119 - val_loss: 0.3379 - val_accuracy: 0.8781\n",
            "Epoch 11/17\n",
            "750/750 [==============================] - 7s 9ms/step - loss: 0.2219 - accuracy: 0.9152 - val_loss: 0.3445 - val_accuracy: 0.8863\n",
            "Epoch 12/17\n",
            "750/750 [==============================] - 10s 13ms/step - loss: 0.2121 - accuracy: 0.9185 - val_loss: 0.3112 - val_accuracy: 0.8910\n",
            "Epoch 13/17\n",
            "750/750 [==============================] - 8s 11ms/step - loss: 0.2069 - accuracy: 0.9209 - val_loss: 0.3208 - val_accuracy: 0.8919\n",
            "Epoch 14/17\n",
            "750/750 [==============================] - 6s 8ms/step - loss: 0.2009 - accuracy: 0.9228 - val_loss: 0.3245 - val_accuracy: 0.8938\n",
            "Epoch 15/17\n",
            "750/750 [==============================] - 6s 8ms/step - loss: 0.1881 - accuracy: 0.9279 - val_loss: 0.3146 - val_accuracy: 0.8938\n",
            "Epoch 16/17\n",
            "750/750 [==============================] - 6s 8ms/step - loss: 0.1887 - accuracy: 0.9278 - val_loss: 0.3175 - val_accuracy: 0.8900\n",
            "Epoch 17/17\n",
            "750/750 [==============================] - 6s 8ms/step - loss: 0.1773 - accuracy: 0.9314 - val_loss: 0.3181 - val_accuracy: 0.8963\n",
            "Best optimizer: adam\n",
            "Best validation accuracy: 0.8962500095367432\n"
          ]
        }
      ]
    }
  ]
}